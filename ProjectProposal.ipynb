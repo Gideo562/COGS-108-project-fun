{
 "cells": [
  {
   "cell_type": "markdown",
   "metadata": {},
   "source": [
    "# COGS 108 - Project Proposal"
   ]
  },
  {
   "cell_type": "markdown",
   "metadata": {},
   "source": [
    "## Important\n",
    "\n",
    "- Make sure all group members (3-6 people) are listed in the group members section.\n",
    "- ONE, and only one, member of your group should upload this notebook to TritonED. \n",
    "- Each member of the group will receive the same grade on this assignment. \n",
    "- Keep the file name the same: submit the file 'ProjectProposal.ipynb'"
   ]
  },
  {
   "cell_type": "markdown",
   "metadata": {},
   "source": [
    "## Overview"
   ]
  },
  {
   "cell_type": "markdown",
   "metadata": {},
   "source": [
    "Read the project description and detailed instructions for this assignment in the 'ProjectOutline' document."
   ]
  },
  {
   "cell_type": "markdown",
   "metadata": {},
   "source": [
    "## Group Members: Fill in the Student IDs of each group member here\n",
    "\n",
    "Replace the lines below to list each persons full student ID. Add lines as needed for your group size, and make sure each ID is listed on a separate line. \n",
    "\n",
    "- A12814729\n",
    "- A11983710\n",
    "- A91097653\n",
    "- A13497348\n",
    "- A12433857\n",
    "- A11774341"
   ]
  },
  {
   "cell_type": "markdown",
   "metadata": {},
   "source": [
    "### Research Question\n",
    "\n",
    "What is your research question? (1-2 sentences)"
   ]
  },
  {
   "cell_type": "markdown",
   "metadata": {},
   "source": [
    "How do different regional factors influcence unemployment rates at various Wal-Mart locations?"
   ]
  },
  {
   "cell_type": "markdown",
   "metadata": {},
   "source": [
    "### Hypothesis\n",
    "\n",
    "What is your main hypothesis and predictions? (2-3 sentences)"
   ]
  },
  {
   "cell_type": "markdown",
   "metadata": {},
   "source": [
    "We hypothesize that factors such as comsumer price index (CPI), fuel price, and weekly sales will correlate strongly with unemployment rate with a negative, postive, and negative correlation respectively. Other factors, such as average regional temerpature and holidays, would have a weak correlation with unemployment rate."
   ]
  },
  {
   "cell_type": "markdown",
   "metadata": {},
   "source": [
    "### Dataset(s)\n",
    "\n",
    "What data will you use to answer your question? Describe the dataset(s) in terms of number of observations, what kind of features it contains, etc. You must use at least one dataset containing at least approximately 1000 observations (if your data are smaller but you feel they are sufficient, email Prof. Voytek). You are welcome (and in fact recommended) to find multiple datasets! If you do so, describe each one, and briefly explain how you will combine them together. "
   ]
  },
  {
   "cell_type": "markdown",
   "metadata": {},
   "source": [
    "*Fill in your dataset information here*\n",
    "\n",
    "**All descriptions of datasets taken from kaggle.com**\n",
    "\n",
    "(Copy this information for each dataset)\n",
    "- Dataset Name: Walmart Recruiting - Store Sales Forecasting (features.csv)\n",
    "- Link to the dataset: https://www.kaggle.com/c/walmart-recruiting-store-sales-forecasting/data\n",
    "- Number of observations: 8190\n",
    "\n",
    "\"This file contains data related to the store, department, and regional activity for given dates.\" This file contains information on the store number, date, average temperature of the region, fuel price, promotional markdowns, consumer price index, unemployment, and whether or not it was a holiday. \n",
    "\n",
    "- Dataset Name: Walmart Recruiting - Store Sales Forecasting (stores.csv)\n",
    "- Link to the dataset: https://www.kaggle.com/c/walmart-recruiting-store-sales-forecasting/data\n",
    "- Number of observations: 45\n",
    "\n",
    "\"This file contains anonymized information about the 45 stores, indicating the type and size of store.\"\n",
    "\n",
    "- Dataset Name: Walmart Recruiting - Store Sales Forecasting (train.csv)\n",
    "- Link to the dataset: https://www.kaggle.com/c/walmart-recruiting-store-sales-forecasting/data\n",
    "- Number of observations: 421570\n",
    "\n",
    "\"This is the historical training data, which covers to 2010-02-05 to 2012-11-01.\" The file contains information on the the store number, department number, date, the weekly sales information of of a given department in the given store, and whether or not the specified week is a special holiday week.\n",
    "\n",
    "From the train dataset, we plan to average the information from each department for each store, resulting the average weekly sales for each store per date. This will then be appended to the features dataframe. We do not intened to combine the stores dataset with the other two. However, we plan on utilizing the size information listed in the dataset to see if there is a correlation between size of the store and unemployment rate for that specific store/region. \n"
   ]
  },
  {
   "cell_type": "markdown",
   "metadata": {},
   "source": [
    "### Background and Prior Work\n",
    "\n",
    "Why is this question of interest, what background information led you to your hypothesis, and why is this important?\n",
    "\n",
    "Find some relevant prior work, and reference those sources. Even if you think you have a totally novel question, find the most similar prior work that you can and discuss how it relates to your project. \n",
    "\n",
    "References can be research publications, but they need not be. Blogs, github repositories, company websites, etc., are all viable references if they are relevant to your project.\n",
    "\n",
    "(2-3 paragraphs, including at least 2 references)"
   ]
  },
  {
   "cell_type": "markdown",
   "metadata": {},
   "source": [
    "Wal-Mart is the \"largest private sector employer in the US\" and is often a \"lightning rod for criticism\" concerning issues of worker compensation, pay, and employment.(1) Wal-Mart is so huge in the United States that there can even be implications for regional unemployment rates when a Wal-Mart moves into an area.(2) Considering these information, there are potentially useful implications for how Wal-Mart or other retail businesses can be run as well as implications for how to combat issues concerning employment in areas if factors correlating with unemployment can be found. \n",
    "\n",
    "The hypothesized correlations are based upon some findings on the relationship of unemployment rate to inflation(3) and to changes in gas prices(4). It was reasoned that factors relating directly to economy, price of living, etc... would have correlations with unemployment rate as found above, while factors like temperature would not have a strong correlation over time. \n",
    "\n",
    "References (include links):\n",
    "- 1) Bhattarai, Abha, and Todd C. Frankel. \"Walmart Said It's Giving Its Employees A Raise. And Then It Closed 63 Stores.\" The Washington Post, 11 Jan. 2018, https://www.washingtonpost.com/news/business/wp/2018/01/11/walmart-to-raise-starting-hourly-wage-to-11-offer-paid-parental-leave/?fbclid=IwAR1L5UfHBA78aJ-vkee9tJZsBCpDlQyedVMNBrzrwdORjHCS-rz_LP1KMKk&noredirect=on&utm_term=.d01ffabc9bfa\n",
    "\n",
    "- 2) Keil, Stanley R. and Lee C. Spector. \"The Impact of Wal-Mart On Income And Unemployment Differentials In Alabama.\" The Review of Regional Studies 35.3 (2005): 336-355. Web. 16 Feb. 2019 https://pdfs.semanticscholar.org/1650/e455a3185c4b257b7b30c971c1606562ac31.pdf?fbclid=IwAR0ECEpANJRWRqDiftbjiqrdp_FseDbt2LIY4uzjM5pzgfi8TF-kwiGBPdk \n",
    "\n",
    "- 3) Picardo, Elvis. \"How Inflation and Unemployment Rate Are Related.\" Investopedia, 11 May 2018, https://www.investopedia.com/articles/markets/081515/how-inflation-and-unemployment-are-related.asp\n",
    "\n",
    "- 4) \"The Price Of Gas And The Unemployment Rate.\" Seeking Alpha, 14 Feb. 2011, https://seekingalpha.com/article/252704-the-price-of-gas-and-the-unemployment-rate?page=2&fbclid=IwAR2t9FILcjgUuubDZ8fAUdEhVRoc0ILlh35LnpJ4vRC7b5ar8e796JMWzMk\n",
    "\n",
    "- 5) Taylor, Kate. \"The Unemployment Rate Has Fallen To A 48-Year Low, And It's Terrifying News For Walmart, McDonald's, And JCPenney.\" Business Insider, 5 Oct. 2018, https://www.businessinsider.com/unemployment-rate-sparks-hiring-concerns-2018-10?fbclid=IwAR2PW52Drh-x60tGPTKNiZauPHMSwv9qjAQqdLWDlkW06uDcsgoxOUGvB3w"
   ]
  },
  {
   "cell_type": "markdown",
   "metadata": {},
   "source": [
    "### Proposed Methods\n",
    "\n",
    "What methods will you use to analyze your data?\n",
    "\n",
    "- How 'clean' is the data? To the extent that it requires cleaning, how will you do so?\n",
    "- How will you analyze the data? Be as specific as you can. Briefly mention any pre-processing steps that are required for your methods (for example, checking data distributions and performing any transformations that may be required). Include a brief outline of how you will apply your chosen method(s). \n",
    "- What do you plan to report? Briefly mention any key visualizations you plan to create, and/or the kind of results you will be able to report that address your question (this could be, for example, the outcome of some statistical test(s), prediction error on a model, a model fit parameter, etc.).\n",
    "- Include a list of packages you expect to use for you project. If you plan to use packages we have not used in class, add a very brief description about them (a few words is sufficient). "
   ]
  },
  {
   "cell_type": "markdown",
   "metadata": {},
   "source": [
    "*Fill in your proposed methods information here:*\n",
    "\n",
    "*Data Cleaning (2-3 sentences)*\n",
    "The dataset we obtained has fairly clean data, mainly issues with certain columns or rows having a noticeable presence of NaNs. To clean the data, we will drop columns or rows with NaNs, as well as removing certain columns as they are data not relevant to our analysis (e.g. columns \"MarkDown1-5\"). Other columns may need to have their data converted into a different form, e.g. the \"Date\" column as the data type in that column is a string, which is not suitable for data analysis, which we would do by entering a specific argument in pandas.read_csv(dtype=). There will be additional rows to remove as there are more than 45x183 rows of data, meaning some stores have more data than others. To compare stores across each date, additional dates not found in the other stores may need to be removed.\n",
    "\n",
    "*Data Analysis (1-2 paragraphs)*\n",
    "To analyze the data, linear regression will be performed for each variable of interest against unemployment rate to find correlation coefficients for each of these variables. This will be performed for each store over the period of time that the data covers. This will yield, for each store, R^2 values for each of the variables for that store. These R^2 values can then be compared across stores to see how different regions do or do not have correlations with these variables and unemployment rate. Preliminary analysis of these R^2 values will be done by plotting the R^2 values on a histogram to see the distribution of R^2 values and then the mean and standard deviation of the R^2 values will be taken to determine which variables have the strongest correlations overall. \n",
    "\n",
    "*What to report (2-3 sentences)*\n",
    "We plan to report scatterplots for each of the variables against unemployment rate, potentially visualized in a scatter matrix in addition to reporting the R^2 values. R^2 spread for each variable will be displayed in histograms, along with Z-test scores.\n",
    "\n",
    "Packages we plan to use:\n",
    "- a) Pandas\n",
    "- b) Numpy\n",
    "- c) MatPlotLib\n",
    "- d) Seaborn"
   ]
  },
  {
   "cell_type": "markdown",
   "metadata": {},
   "source": [
    "### Ethics and Privacy\n",
    "\n",
    "Briefly acknowledge and address any potential issues of ethics and privacy for the proposed project. In particular:\n",
    "- Do you have permission to use this data, for this purpose?\n",
    "- Are there privacy concerns regarding your datasets that you need to deal with, and/or terms of use that you need to comply with?\n",
    "- Are there potential biases in your dataset(s), in terms of who it composes, and how it was collected, that may be problematic in terms of it allowing for equitable analysis? (For example, does your data exclude particular populations, or is it likely to reflect particular human biases in a way that could be a problem?) \n",
    "- Are there any other issues related to your topic area, data, and/or analyses that are potentially problematic in terms of data privacy and equitable impact?\n",
    "- How will you handle any issues you identify?\n",
    "\n",
    "We have permission to use the dataset for this purpose; the dataset was original1ly published on Kaggle as part of a competition and is publically available. Kaggle datasets are publically accessible if you have or make an account, though hosts of competitions can make stipulations about their use outside of the competition. In this case, the host made no stipulations concerning the outside use or distribution of the dataset itself (only of code relating to the competition during the competition window). Being a Kaggle competition dataset, there is the possibility that the data has biases in how it was taken or selected to fit better the purpose of the competition, or to be selective of Wal-Marts in particular socio-economic areas, meaning that the data could potentially only be generalizable to help people of those specific socio-economic class(es). \n",
    "\n",
    "The data itself is extremely anonymized, making it nearly impossible to determine the identities of any of the stores in question, as the regions for each store are not specified nor the stores named anything beyond Store 1 through 45. The closest one could narrow down the stores is by comparing the temperature for each day for each store against weather reports for those days to determine an area the store could be in. Even if the identity of the store were found, there is no other data that could implicate anything about any individuals working or shopping there. \n",
    "\n",
    "(1-2 paragraphs)"
   ]
  },
  {
   "cell_type": "markdown",
   "metadata": {},
   "source": [
    "### Discussion\n",
    "\n",
    "Discuss your project, looking forward to what your results might mean, how they fit it in with what is already known, and what problems you may encounter. \n",
    "\n",
    "In particular:\n",
    "- If your analyses and hypotheses are correct, what will be the contribution of this project to the topic domain? \n",
    "- Alternatively, what will you do if you methods don't work and/or your hypotheses are wrong? \n",
    "- What are the potential pitfalls and potential confounds of your data and/or methods that may cause problems, and/or influence your interpretations?\n",
    "\n",
    "(2-3 paragraphs)"
   ]
  },
  {
   "cell_type": "markdown",
   "metadata": {},
   "source": [
    "If the analyses and hypotheses are correct, and strong correlations between CPI, fuel price, and weekly sales with unemployment are found, then this would help inform decisions from Wal-Mart and other private retail businesses about where and how to conduct their business as well as well as provide further direction to probe into the nature of the relationship between these variables and unemployment to assist in finding ways to reduce unemployment by influencing these factors. If the methods or hypotheses do not produce the anticipated outcomes, it is possible that, even if there is a relationship between the variables and unemployment, it's possible it is not one that can be expressed linearly, in which case we will adapt our methods to work with Polyfit instead of Linear Regression. \n",
    "\n",
    "Other issues that may arise besides the relationship not being linear are that it is possible that the data being used is either too specific to be generalizable, having too much variance in the sample. It's also possible that the trends may have been true once, but with the rise of e-commerce that the question cannot be fully answered with just an analysis of a physical retail chain. Further on the point of e-commerce, it is also possible that some of the variables are not representing what we think they mean, as there is not a great deal of specification on what each of the variable names on each column represent besides the short description for each on the Kaggle webpage, in addition to the aforementioned potential confounds from the Ethics and Privacy section. "
   ]
  }
 ],
 "metadata": {
  "kernelspec": {
   "display_name": "Python 3",
   "language": "python",
   "name": "python3"
  },
  "language_info": {
   "codemirror_mode": {
    "name": "ipython",
    "version": 3
   },
   "file_extension": ".py",
   "mimetype": "text/x-python",
   "name": "python",
   "nbconvert_exporter": "python",
   "pygments_lexer": "ipython3",
   "version": "3.7.1"
  }
 },
 "nbformat": 4,
 "nbformat_minor": 2
}
