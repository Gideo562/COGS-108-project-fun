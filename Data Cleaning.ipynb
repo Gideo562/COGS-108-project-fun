{
 "cells": [
  {
   "cell_type": "code",
   "execution_count": 1,
   "metadata": {},
   "outputs": [],
   "source": [
    "import pandas as pd\n",
    "import numpy as np\n",
    "import seaborn as sp\n",
    "import matplotlib as mplot\n",
    "from collections import defaultdict\n",
    "from scipy import stats"
   ]
  },
  {
   "cell_type": "code",
   "execution_count": 2,
   "metadata": {},
   "outputs": [],
   "source": [
    "weeksalesdb = pd.read_csv('train.csv')\n",
    "stores = pd.read_csv('stores.csv' , dtype = {'Store': int})\n",
    "features = pd.read_csv('features.csv')"
   ]
  },
  {
   "cell_type": "code",
   "execution_count": 3,
   "metadata": {},
   "outputs": [],
   "source": [
    "features.drop(columns = ['MarkDown1', 'MarkDown2', 'MarkDown3', 'MarkDown4', 'MarkDown5'], inplace = True)"
   ]
  },
  {
   "cell_type": "code",
   "execution_count": null,
   "metadata": {},
   "outputs": [],
   "source": [
    "#converts weeksalesdb rows into dict and merging departments\n",
    "agg_sales = defaultdict(int)\n",
    "for ind, sale in weeksalesdb.iterrows():\n",
    "    agg_sales[str(sale['Store'])+'.'+sale['Date']] += sale['Weekly_Sales']"
   ]
  },
  {
   "cell_type": "code",
   "execution_count": null,
   "metadata": {},
   "outputs": [],
   "source": [
    "#converts back into db with updated sales value\n",
    "storesales = pd.DataFrame(columns=['Store','Date','Weekly_Sales'])\n",
    "\n",
    "for key, value in agg_sales.items():\n",
    "    store, date = key.split('.')\n",
    "    newrow = [store, date, value]\n",
    "    storesales.loc[len(storesales)] = newrow"
   ]
  },
  {
   "cell_type": "code",
   "execution_count": null,
   "metadata": {},
   "outputs": [],
   "source": [
    "#function to convert date to integer\n",
    "def convert_date(date):\n",
    "    date = date.strip()\n",
    "    date = date.replace('-','')\n",
    "    date = date.strip()\n",
    "    return int(date)\n",
    "\n",
    "#convert date columns\n",
    "storesales['Date'] = storesales['Date'].apply(convert_date)\n",
    "features['Date'] = features['Date'].apply(convert_date)"
   ]
  },
  {
   "cell_type": "code",
   "execution_count": null,
   "metadata": {},
   "outputs": [],
   "source": [
    "#convert store column to int (was str)\n",
    "storesales['Store'] = pd.to_numeric(storesales['Store'])\n",
    "features.head(10)"
   ]
  },
  {
   "cell_type": "code",
   "execution_count": null,
   "metadata": {},
   "outputs": [],
   "source": [
    "#exported csv files\n",
    "storesales.to_csv('storesales.csv')\n",
    "features.to_csv('features2.csv')"
   ]
  },
  {
   "cell_type": "code",
   "execution_count": null,
   "metadata": {},
   "outputs": [],
   "source": [
    "#merged two dataframes together on the store and date column\n",
    "merged = pd.merge(storesales, features, on =['Store', 'Date'], how = 'outer')"
   ]
  },
  {
   "cell_type": "code",
   "execution_count": null,
   "metadata": {},
   "outputs": [],
   "source": [
    "#removed rows where unemployment data was empty\n",
    "merged.dropna(subset = ['Unemployment'], inplace = True)"
   ]
  },
  {
   "cell_type": "code",
   "execution_count": null,
   "metadata": {},
   "outputs": [],
   "source": [
    "#export cleaned features\n",
    "merged.to_csv('features_clean.csv', index = False)"
   ]
  },
  {
   "cell_type": "code",
   "execution_count": null,
   "metadata": {},
   "outputs": [],
   "source": [
    "merged.head(10)"
   ]
  },
  {
   "cell_type": "code",
   "execution_count": null,
   "metadata": {},
   "outputs": [],
   "source": [
    "#checked for outliers in the weekly sales column, most of these are on or near holidays.\n",
    "outliers = merged[merged['Weekly_Sales'] > merged['Weekly_Sales'].mean() + 3 * merged['Weekly_Sales'].std()]\n",
    "outliers"
   ]
  },
  {
   "cell_type": "code",
   "execution_count": null,
   "metadata": {},
   "outputs": [],
   "source": []
  }
 ],
 "metadata": {
  "kernelspec": {
   "display_name": "Python 3",
   "language": "python",
   "name": "python3"
  },
  "language_info": {
   "codemirror_mode": {
    "name": "ipython",
    "version": 3
   },
   "file_extension": ".py",
   "mimetype": "text/x-python",
   "name": "python",
   "nbconvert_exporter": "python",
   "pygments_lexer": "ipython3",
   "version": "3.7.1"
  }
 },
 "nbformat": 4,
 "nbformat_minor": 2
}
